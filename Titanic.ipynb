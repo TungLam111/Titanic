{
  "nbformat": 4,
  "nbformat_minor": 0,
  "metadata": {
    "colab": {
      "name": "Untitled4.ipynb",
      "provenance": [],
      "collapsed_sections": [],
      "include_colab_link": true
    },
    "kernelspec": {
      "name": "python3",
      "display_name": "Python 3"
    },
    "accelerator": "GPU"
  },
  "cells": [
    {
      "cell_type": "markdown",
      "metadata": {
        "id": "view-in-github",
        "colab_type": "text"
      },
      "source": [
        "<a href=\"https://colab.research.google.com/github/tunglamphandam/Titanic/blob/master/Titanic.ipynb\" target=\"_parent\"><img src=\"https://colab.research.google.com/assets/colab-badge.svg\" alt=\"Open In Colab\"/></a>"
      ]
    },
    {
      "cell_type": "code",
      "metadata": {
        "id": "0scR8zfVFaLI",
        "colab_type": "code",
        "colab": {}
      },
      "source": [
        "import pandas as pd\n",
        "train_df = pd.read_csv(\"train.csv\", na_values = ':')\n",
        "test_df = pd.read_csv(\"test.csv\", na_values = ':')\n"
      ],
      "execution_count": 0,
      "outputs": []
    },
    {
      "cell_type": "code",
      "metadata": {
        "id": "0Zi5h-zfFoii",
        "colab_type": "code",
        "outputId": "62293aa0-df2e-49c3-e352-442628f85b7f",
        "colab": {
          "base_uri": "https://localhost:8080/",
          "height": 544
        }
      },
      "source": [
        "print(train_df.columns.values)  # In ra 5 giá trị của cột\n",
        "print(train_df.info())   # Print info (type data, ..... )\n",
        "print(train_df.describe())"
      ],
      "execution_count": 4,
      "outputs": [
        {
          "output_type": "stream",
          "text": [
            "['PassengerId' 'Survived' 'Pclass' 'Name' 'Sex' 'Age' 'SibSp' 'Parch'\n",
            " 'Ticket' 'Fare' 'Cabin' 'Embarked']\n",
            "<class 'pandas.core.frame.DataFrame'>\n",
            "RangeIndex: 891 entries, 0 to 890\n",
            "Data columns (total 12 columns):\n",
            "PassengerId    891 non-null int64\n",
            "Survived       891 non-null int64\n",
            "Pclass         891 non-null int64\n",
            "Name           891 non-null object\n",
            "Sex            891 non-null object\n",
            "Age            714 non-null float64\n",
            "SibSp          891 non-null int64\n",
            "Parch          891 non-null int64\n",
            "Ticket         891 non-null object\n",
            "Fare           891 non-null float64\n",
            "Cabin          204 non-null object\n",
            "Embarked       889 non-null object\n",
            "dtypes: float64(2), int64(5), object(5)\n",
            "memory usage: 83.7+ KB\n",
            "None\n",
            "       PassengerId    Survived      Pclass  ...       SibSp       Parch        Fare\n",
            "count   891.000000  891.000000  891.000000  ...  891.000000  891.000000  891.000000\n",
            "mean    446.000000    0.383838    2.308642  ...    0.523008    0.381594   32.204208\n",
            "std     257.353842    0.486592    0.836071  ...    1.102743    0.806057   49.693429\n",
            "min       1.000000    0.000000    1.000000  ...    0.000000    0.000000    0.000000\n",
            "25%     223.500000    0.000000    2.000000  ...    0.000000    0.000000    7.910400\n",
            "50%     446.000000    0.000000    3.000000  ...    0.000000    0.000000   14.454200\n",
            "75%     668.500000    1.000000    3.000000  ...    1.000000    0.000000   31.000000\n",
            "max     891.000000    1.000000    3.000000  ...    8.000000    6.000000  512.329200\n",
            "\n",
            "[8 rows x 7 columns]\n"
          ],
          "name": "stdout"
        }
      ]
    },
    {
      "cell_type": "code",
      "metadata": {
        "id": "-gxyDgZ1GL7Q",
        "colab_type": "code",
        "outputId": "aac1fe12-4c59-41f8-e1e8-0c990b6aaddf",
        "colab": {
          "base_uri": "https://localhost:8080/",
          "height": 952
        }
      },
      "source": [
        "print(train_df[['Pclass','Survived']].groupby(['Pclass'],as_index=False).mean().sort_values(by='Survived',ascending=False)) \n",
        "print(train_df[['Sex','Survived']].groupby(['Sex'],as_index=False).mean().sort_values(by='Survived',ascending=False))\n",
        "print(train_df[['SibSp','Survived']].groupby(['SibSp'], as_index=False).mean().sort_values(by='Survived', ascending=False))\n",
        "print(train_df[['Parch', 'Survived']].groupby(['Parch'],as_index=False).mean().sort_values(by='Survived', ascending=False))\n",
        "print(train_df[['Age', 'Survived']].groupby(['Age'], as_index=False).mean().sort_values(by='Survived', ascending=False))\n",
        "print(train_df[['Fare', 'Survived']].groupby(['Fare'], as_index=False).mean().sort_values(by='Survived', ascending=False))\n",
        "print(train_df[['Embarked', 'Survived']].groupby(['Embarked'], as_index=False).mean().sort_values(by='Survived', ascending=False))"
      ],
      "execution_count": 5,
      "outputs": [
        {
          "output_type": "stream",
          "text": [
            "   Pclass  Survived\n",
            "0       1  0.629630\n",
            "1       2  0.472826\n",
            "2       3  0.242363\n",
            "      Sex  Survived\n",
            "0  female  0.742038\n",
            "1    male  0.188908\n",
            "   SibSp  Survived\n",
            "1      1  0.535885\n",
            "2      2  0.464286\n",
            "0      0  0.345395\n",
            "3      3  0.250000\n",
            "4      4  0.166667\n",
            "5      5  0.000000\n",
            "6      8  0.000000\n",
            "   Parch  Survived\n",
            "3      3  0.600000\n",
            "1      1  0.550847\n",
            "2      2  0.500000\n",
            "0      0  0.343658\n",
            "5      5  0.200000\n",
            "4      4  0.000000\n",
            "6      6  0.000000\n",
            "      Age  Survived\n",
            "0    0.42       1.0\n",
            "9    5.00       1.0\n",
            "79  63.00       1.0\n",
            "68  53.00       1.0\n",
            "1    0.67       1.0\n",
            "..    ...       ...\n",
            "37  28.50       0.0\n",
            "49  36.50       0.0\n",
            "46  34.50       0.0\n",
            "26  20.50       0.0\n",
            "30  23.50       0.0\n",
            "\n",
            "[88 rows x 2 columns]\n",
            "         Fare  Survived\n",
            "247  512.3292       1.0\n",
            "196   57.9792       1.0\n",
            "89    13.8583       1.0\n",
            "88    13.7917       1.0\n",
            "86    13.4167       1.0\n",
            "..        ...       ...\n",
            "103   15.5500       0.0\n",
            "180   47.1000       0.0\n",
            "179   46.9000       0.0\n",
            "178   42.4000       0.0\n",
            "124   21.0750       0.0\n",
            "\n",
            "[248 rows x 2 columns]\n",
            "  Embarked  Survived\n",
            "0        C  0.553571\n",
            "1        Q  0.389610\n",
            "2        S  0.336957\n"
          ],
          "name": "stdout"
        }
      ]
    },
    {
      "cell_type": "code",
      "metadata": {
        "id": "zg9EUnWMH8ad",
        "colab_type": "code",
        "outputId": "0f96b57b-1041-4c05-ee70-e2ab64435709",
        "colab": {
          "base_uri": "https://localhost:8080/",
          "height": 1000
        }
      },
      "source": [
        "import seaborn as sns\n",
        "import matplotlib.pyplot as plt\n",
        "#Nhận thấy rằng trong các yếu tố relevant đến survived thì Age là yếu tố biến thiên còn Pclass(1,2,3), Sex(0,1), Embarked(C,S,Q) là bỉnary\n",
        "#nên khi visualize Age là y-axis\n",
        "#Visualize tỉ lệ sống sót theo độ tuổi phân chia theo các tầng lớp \n",
        "g = sns.FacetGrid(train_df, col='Survived', row='Pclass', size=2.2, aspect=1.6)\n",
        "g.map(plt.hist,'Age',alpha = .5, color='Orange', bins=20)\n",
        "#Visual tỉ lệ sống sót theo độ tuổi phân chia theo giới tính\n",
        "g = sns.FacetGrid(train_df, col='Survived', row='Sex', size=2.2, aspect=1.6)\n",
        "g.map(plt.hist,'Age',alpha = .5, color='Orange', bins=20)\n",
        "#Visual tỉ lệ sống sót theo độ tuổi phân chia theo embarked \n",
        "g = sns.FacetGrid(train_df, col='Survived', row='Embarked', size=2.2, aspect=1.6)\n",
        "g.map(plt.hist,'Age',alpha = .5, color='Orange', bins=20)\n"
      ],
      "execution_count": 6,
      "outputs": [
        {
          "output_type": "stream",
          "text": [
            "/usr/local/lib/python3.6/dist-packages/seaborn/axisgrid.py:230: UserWarning: The `size` paramter has been renamed to `height`; please update your code.\n",
            "  warnings.warn(msg, UserWarning)\n"
          ],
          "name": "stderr"
        },
        {
          "output_type": "execute_result",
          "data": {
            "text/plain": [
              "<seaborn.axisgrid.FacetGrid at 0x7fef1585a978>"
            ]
          },
          "metadata": {
            "tags": []
          },
          "execution_count": 6
        },
        {
          "output_type": "display_data",
          "data": {
            "image/png": "[encoded data removed]",
            "text/plain": [
              "<Figure size 506.88x475.2 with 6 Axes>"
            ]
          },
          "metadata": {
            "tags": []
          }
        },
        {
          "output_type": "display_data",
          "data": {
            "image/png": "[encoded data removed]",
            "text/plain": [
              "<Figure size 506.88x316.8 with 4 Axes>"
            ]
          },
          "metadata": {
            "tags": []
          }
        },
        {
          "output_type": "display_data",
          "data": {
            "image/png": "[encoded data removed]",
            "text/plain": [
              "<Figure size 506.88x475.2 with 6 Axes>"
            ]
          },
          "metadata": {
            "tags": []
          }
        }
      ]
    },
    {
      "cell_type": "code",
      "metadata": {
        "id": "C0DIaaDxIlFf",
        "colab_type": "code",
        "outputId": "89c14f8f-86e6-4b5c-f86d-b875b866eda8",
        "colab": {
          "base_uri": "https://localhost:8080/",
          "height": 51
        }
      },
      "source": [
        "#Now let see how different after changes\n",
        "combine = [train_df, test_df]\n",
        "print(\"Before\", train_df.shape, test_df.shape, combine[0].shape, combine[1].shape)\n",
        "train_df = train_df.drop(['Ticket','Cabin'], axis = 1)   #Delete column\n",
        "test_df  = test_df.drop (['Ticket','Cabin'], axis = 1)\n",
        "combine = [train_df, test_df]\n",
        "print(\"After\", train_df.shape, test_df.shape, combine[0].shape, combine[1].shape)"
      ],
      "execution_count": 7,
      "outputs": [
        {
          "output_type": "stream",
          "text": [
            "Before (891, 12) (418, 11) (891, 12) (418, 11)\n",
            "After (891, 10) (418, 9) (891, 10) (418, 9)\n"
          ],
          "name": "stdout"
        }
      ]
    },
    {
      "cell_type": "code",
      "metadata": {
        "id": "TVrfKgFtIcGd",
        "colab_type": "code",
        "colab": {}
      },
      "source": [
        "for dataset in combine: \n",
        "    dataset['Title'] = dataset.Name.str.extract(' ([A-Za-z]+)\\.', expand=False)\n",
        "for dataset in combine:\n",
        "    dataset['Title'] = dataset['Title'].replace(['Lady', 'Countess','Capt', 'Col', 'Don','Dr', 'Major', 'Rev', 'Sir', 'Jonkheer', 'Dona'], 'Rare')\n",
        "    dataset['Title'] = dataset['Title'].replace('Mlle', 'Miss')\n",
        "    dataset['Title'] = dataset['Title'].replace('Ms', 'Miss')\n",
        "    dataset['Title'] = dataset['Title'].replace('Mme', 'Mrs')\n",
        "title_mapping = {\"Mr\": 1, \"Miss\": 2, \"Mrs\": 3, \"Master\": 4, \"Rare\": 5}    #Label\n",
        "for dataset in combine:\n",
        "    dataset['Title'] = dataset['Title'].map(title_mapping)\n",
        "    dataset['Title'] = dataset['Title'].fillna(0)\n",
        "    dataset['Sex'] = dataset['Sex'].map( {'female': 1, 'male': 0} ).astype(int)    #Label \n",
        "train_df = train_df.drop(['Name', 'PassengerId'], axis=1)\n",
        "test_df = test_df.drop(['Name'], axis=1)\n",
        "combine = [train_df, test_df]"
      ],
      "execution_count": 0,
      "outputs": []
    },
    {
      "cell_type": "code",
      "metadata": {
        "id": "5kXzRvFEJDDC",
        "colab_type": "code",
        "colab": {}
      },
      "source": [
        "#Tiếp theo, sau khi đã loại bỏ những factor irrelevant. chúng ta sẽ xét đến liệu có nên hay không bỏ đi những giá trị NULL\n",
        "#hay inject reasonable values vào. Cùng thử thay đổi một xíu:\n",
        "#Embarked\n",
        "freq_port = train_df.Embarked.dropna().mode()[0]\n",
        "for dataset in combine:\n",
        "    dataset['Embarked'] = dataset['Embarked'].fillna(freq_port)   #Embraked có tần suất cao nhất là S. fill các NaN bằng S\n",
        "for dataset in combine:\n",
        "    dataset['Embarked'] = dataset['Embarked'].map( {'S': 0, 'C': 1, 'Q': 2} ).astype(int)   #label thành 0 ,1,2\n",
        "combine = [train_df, test_df]"
      ],
      "execution_count": 0,
      "outputs": []
    },
    {
      "cell_type": "code",
      "metadata": {
        "id": "RX4c5w7-JTzS",
        "colab_type": "code",
        "colab": {}
      },
      "source": [
        "#Age\n",
        "import numpy as np\n",
        "guess_ages = np.zeros((2,3))\n",
        "for dataset in combine:\n",
        "    for i in range(0,2):\n",
        "        for j in range(0,3):\n",
        "            guess_df = dataset[(dataset['Sex'] == i) & (dataset['Pclass'] == j+1)]['Age'].dropna()\n",
        "age_guess = guess_df.median()\n",
        "for i in range(0,2):\n",
        "  for j in range(0,3): \n",
        "    guess_ages[i][j] = int(age_guess/0.5 + 0/5)*0.5   #lưu các median trong array\n",
        "for dataset in combine:\n",
        "  for i in range(0,2):\n",
        "    for j in range(0,3):\n",
        "      dataset.loc[(dataset['Age'].isnull()) & (dataset['Sex'] == i) & (dataset['Pclass'] == j+1),'Age'] = guess_ages[i,j]  # thay các NaN bằng median được lưu trong array\n",
        "  dataset['Age'] = dataset['Age'].astype(int)\n"
      ],
      "execution_count": 0,
      "outputs": []
    },
    {
      "cell_type": "code",
      "metadata": {
        "id": "IKstrS1YKKOk",
        "colab_type": "code",
        "colab": {}
      },
      "source": [
        "for dataset in combine :\n",
        "    dataset.loc[dataset['Age'] <= 16,'Age'] = 0 \n",
        "    dataset.loc[(dataset['Age'] > 16) & (dataset['Age'] <= 32), 'Age'] = 1\n",
        "    dataset.loc[(dataset['Age'] > 32) & (dataset['Age'] <= 48), 'Age'] = 2\n",
        "    dataset.loc[(dataset['Age'] > 48) & (dataset['Age'] <= 64), 'Age'] = 3\n",
        "    dataset.loc[dataset['Age'] > 64,'Age'] = 4\n",
        "combine = [train_df, test_df]"
      ],
      "execution_count": 0,
      "outputs": []
    },
    {
      "cell_type": "code",
      "metadata": {
        "id": "cl1Qi1dgMLYW",
        "colab_type": "code",
        "outputId": "757db143-703c-4e5a-a4de-1e80ff8d5b32",
        "colab": {
          "base_uri": "https://localhost:8080/",
          "height": 119
        }
      },
      "source": [
        "print(train_df.head())"
      ],
      "execution_count": 12,
      "outputs": [
        {
          "output_type": "stream",
          "text": [
            "   Survived  Pclass  Sex  Age  SibSp  Parch     Fare  Embarked  Title\n",
            "0         0       3    0    1      1      0   7.2500         0      1\n",
            "1         1       1    1    2      1      0  71.2833         1      3\n",
            "2         1       3    1    1      0      0   7.9250         0      2\n",
            "3         1       1    1    2      1      0  53.1000         0      3\n",
            "4         0       3    0    2      0      0   8.0500         0      1\n"
          ],
          "name": "stdout"
        }
      ]
    },
    {
      "cell_type": "code",
      "metadata": {
        "id": "unGN-SCMMWV4",
        "colab_type": "code",
        "colab": {}
      },
      "source": [
        "#SibSp, Parch\n",
        "for dataset in combine:\n",
        "    dataset['FamilySize'] = dataset['SibSp'] + dataset['Parch'] + 1\n",
        "for dataset in combine:\n",
        "    dataset.loc[(dataset['FamilySize'] > 1),'Isalone'] = 0\n",
        "    dataset.loc[(dataset['FamilySize'] == 1), 'Isalone'] = 1\n",
        "for dataset in combine:\n",
        "    dataset['Isalone'] = dataset['Isalone'].astype(int)\n",
        "for dataset in combine:\n",
        "    dataset = dataset.drop(['FamilySize','Parch','SibSp'], axis = 1)\n",
        "combine = [train_df, test_df]"
      ],
      "execution_count": 0,
      "outputs": []
    },
    {
      "cell_type": "code",
      "metadata": {
        "id": "Ny8HJTgJMdgu",
        "colab_type": "code",
        "colab": {}
      },
      "source": [
        "#Fare\n",
        "for dataset in combine:\n",
        "    fare_df = dataset['Fare'].dropna()\n",
        "    fare_guess = fare_df.median()\n",
        "    dataset['Fare'].fillna(fare_guess,inplace = True)\n",
        "combine = [train_df, test_df]\n",
        "for dataset in combine: \n",
        "    dataset.loc[ dataset['Fare'] <= 7.91, 'Fare'] = 0\n",
        "    dataset.loc[(dataset['Fare'] > 7.91) & (dataset['Fare'] <= 14.454), 'Fare'] = 1\n",
        "    dataset.loc[(dataset['Fare'] > 14.454) & (dataset['Fare'] <= 31), 'Fare'] = 2\n",
        "    dataset.loc[ dataset['Fare'] > 31, 'Fare'] = 3 \n",
        "    dataset['Fare'] = dataset['Fare'].astype(int)\n",
        "combine = [train_df, test_df]\n",
        "for dataset in combine:\n",
        "    dataset['Age*Pclass'] = dataset['Age'] * dataset['Pclass']\n",
        "combine = [train_df, test_df]"
      ],
      "execution_count": 0,
      "outputs": []
    },
    {
      "cell_type": "code",
      "metadata": {
        "id": "3CJCBhftOBqA",
        "colab_type": "code",
        "outputId": "e7bf3ddb-4fd6-4f91-fc54-8abebfc143c9",
        "colab": {
          "base_uri": "https://localhost:8080/",
          "height": 119
        }
      },
      "source": [
        "for dataset in combine:\n",
        "  dataset = dataset.drop(['SibSp','Parch','FamilySize'],axis=1 ,inplace = True)\n",
        "combine = [train_df, test_df]\n",
        "print(combine[0].head())"
      ],
      "execution_count": 15,
      "outputs": [
        {
          "output_type": "stream",
          "text": [
            "   Survived  Pclass  Sex  Age  Fare  Embarked  Title  Isalone  Age*Pclass\n",
            "0         0       3    0    1     0         0      1        0           3\n",
            "1         1       1    1    2     3         1      3        0           2\n",
            "2         1       3    1    1     1         0      2        1           3\n",
            "3         1       1    1    2     3         0      3        0           2\n",
            "4         0       3    0    2     1         0      1        1           6\n"
          ],
          "name": "stdout"
        }
      ]
    },
    {
      "cell_type": "code",
      "metadata": {
        "id": "bpFA-69fPxMv",
        "colab_type": "code",
        "outputId": "3dda87c2-8c3b-470d-9e59-9be1cca658a0",
        "colab": {
          "base_uri": "https://localhost:8080/",
          "height": 204
        }
      },
      "source": [
        "print(combine[1].head(10))"
      ],
      "execution_count": 16,
      "outputs": [
        {
          "output_type": "stream",
          "text": [
            "   PassengerId  Pclass  Sex  Age  Fare  Embarked  Title  Isalone  Age*Pclass\n",
            "0          892       3    0    2     0         2      1        1           6\n",
            "1          893       3    1    2     0         0      3        0           6\n",
            "2          894       2    0    3     1         2      1        1           6\n",
            "3          895       3    0    1     1         0      1        1           3\n",
            "4          896       3    1    1     1         0      3        0           3\n",
            "5          897       3    0    0     1         0      1        1           0\n",
            "6          898       3    1    1     0         2      2        1           3\n",
            "7          899       2    0    1     2         0      1        0           2\n",
            "8          900       3    1    1     0         1      3        1           3\n",
            "9          901       3    0    1     2         0      1        0           3\n"
          ],
          "name": "stdout"
        }
      ]
    },
    {
      "cell_type": "code",
      "metadata": {
        "id": "udVXohCXSsec",
        "colab_type": "code",
        "colab": {}
      },
      "source": [
        "X_train = train_df.drop(\"Survived\",axis=1)\n",
        "Y_train = train_df[\"Survived\"]\n",
        "X_test = test_df.drop(\"PassengerId\", axis=1).copy()"
      ],
      "execution_count": 0,
      "outputs": []
    },
    {
      "cell_type": "code",
      "metadata": {
        "id": "vgEeSGl7SywI",
        "colab_type": "code",
        "colab": {}
      },
      "source": [
        "from sklearn.linear_model import LogisticRegression #Linear model\n",
        "from sklearn.naive_bayes import BernoulliNB, MultinomialNB #Naive Baye models\n",
        "from sklearn.ensemble import RandomForestClassifier  #Ensemble model\n",
        "from sklearn.linear_model import SGDClassifier #SVM  \n",
        "from sklearn.neighbors import KNeighborsClassifier #kNN\n",
        "clf = SGDClassifier()\n",
        "#clf.fit(X_train, Y_train)"
      ],
      "execution_count": 0,
      "outputs": []
    },
    {
      "cell_type": "code",
      "metadata": {
        "id": "20DmE6uMS6wx",
        "colab_type": "code",
        "colab": {}
      },
      "source": [
        "#Y_pred = clf.predict(X_test)\n",
        "#acc_log = round(clf.score(X_train, Y_train) * 100, 2)"
      ],
      "execution_count": 0,
      "outputs": []
    },
    {
      "cell_type": "code",
      "metadata": {
        "id": "xA8MPQWgqQ2c",
        "colab_type": "code",
        "colab": {}
      },
      "source": [
        ""
      ],
      "execution_count": 0,
      "outputs": []
    },
    {
      "cell_type": "code",
      "metadata": {
        "id": "LDKnrB04uZF3",
        "colab_type": "code",
        "colab": {}
      },
      "source": [
        "from sklearn.model_selection import GridSearchCV\n",
        "from sklearn import svm \n",
        "from sklearn.svm import SVC\n",
        "Cs = [0.001, 0.01, 0.1, 1, 10]\n",
        "gammas = [0.001, 0.01, 0.1, 1, 10]\n",
        "param_grid = {'C': Cs, 'gamma' : gammas} \n",
        "grid_search = GridSearchCV(svm.SVC(kernel='rbf'), param_grid, cv=5)"
      ],
      "execution_count": 0,
      "outputs": []
    },
    {
      "cell_type": "code",
      "metadata": {
        "id": "-_EV_naevTxd",
        "colab_type": "code",
        "colab": {}
      },
      "source": [
        ""
      ],
      "execution_count": 0,
      "outputs": []
    },
    {
      "cell_type": "code",
      "metadata": {
        "colab_type": "code",
        "id": "g43ufbcO0C23",
        "colab": {
          "base_uri": "https://localhost:8080/",
          "height": 204
        },
        "outputId": "2e801cda-f9e5-46e9-d554-e4462d5c0eb8"
      },
      "source": [
        "grid_search.fit(X_train, Y_train)"
      ],
      "execution_count": 144,
      "outputs": [
        {
          "output_type": "execute_result",
          "data": {
            "text/plain": [
              "GridSearchCV(cv=5, error_score='raise-deprecating',\n",
              "             estimator=SVC(C=1.0, cache_size=200, class_weight=None, coef0=0.0,\n",
              "                           decision_function_shape='ovr', degree=3,\n",
              "                           gamma='auto_deprecated', kernel='rbf', max_iter=-1,\n",
              "                           probability=False, random_state=None, shrinking=True,\n",
              "                           tol=0.001, verbose=False),\n",
              "             iid='warn', n_jobs=None,\n",
              "             param_grid={'C': [0.001, 0.01, 0.1, 1, 10],\n",
              "                         'gamma': [0.001, 0.01, 0.1, 1, 10]},\n",
              "             pre_dispatch='2*n_jobs', refit=True, return_train_score=False,\n",
              "             scoring=None, verbose=0)"
            ]
          },
          "metadata": {
            "tags": []
          },
          "execution_count": 144
        }
      ]
    },
    {
      "cell_type": "code",
      "metadata": {
        "id": "bwCl8jroyQ_H",
        "colab_type": "code",
        "colab": {
          "base_uri": "https://localhost:8080/",
          "height": 136
        },
        "outputId": "e0f882f5-b918-40b4-fabe-3893aece75d7"
      },
      "source": [
        "print(grid_search.best_params_)\n",
        "print(grid_search.best_estimator_)\n",
        "print(round(grid_search.best_score_ * 100,2))\n",
        "Y_predict_grid = grid_search.predict(X_test)\n",
        "print(Y_predict_grid[12])"
      ],
      "execution_count": 161,
      "outputs": [
        {
          "output_type": "stream",
          "text": [
            "{'C': 1, 'gamma': 0.1}\n",
            "SVC(C=1, cache_size=200, class_weight=None, coef0=0.0,\n",
            "    decision_function_shape='ovr', degree=3, gamma=0.1, kernel='rbf',\n",
            "    max_iter=-1, probability=False, random_state=None, shrinking=True,\n",
            "    tol=0.001, verbose=False)\n",
            "82.38\n",
            "1\n"
          ],
          "name": "stdout"
        }
      ]
    }
  ]
}